{
  "nbformat": 4,
  "nbformat_minor": 0,
  "metadata": {
    "colab": {
      "provenance": [],
      "authorship_tag": "ABX9TyM76Qwa5vBq6VHT9Fuuck1W",
      "include_colab_link": true
    },
    "kernelspec": {
      "name": "python3",
      "display_name": "Python 3"
    },
    "language_info": {
      "name": "python"
    }
  },
  "cells": [
    {
      "cell_type": "markdown",
      "metadata": {
        "id": "view-in-github",
        "colab_type": "text"
      },
      "source": [
        "<a href=\"https://colab.research.google.com/github/Iscrisful36/Python-NLP-Fundamentals/blob/main/Grupo12.ipynb\" target=\"_parent\"><img src=\"https://colab.research.google.com/assets/colab-badge.svg\" alt=\"Open In Colab\"/></a>"
      ]
    },
    {
      "cell_type": "code",
      "execution_count": 11,
      "metadata": {
        "id": "R11zyyEreBm-"
      },
      "outputs": [],
      "source": [
        "import re\n",
        "import numpy as np\n",
        "import pandas as pd\n",
        "import matplotlib.pyplot as plt\n",
        "from sklearn.feature_extraction.text import TfidfVectorizer\n",
        "%matplotlib inline"
      ]
    },
    {
      "cell_type": "markdown",
      "source": [
        "Aqui importamos todas las librerías necesarias para poder ejecutar el código sin errores, también para poder realizar todas las funciones de graficado de estadísticas."
      ],
      "metadata": {
        "id": "qOtfqN3so8jV"
      }
    },
    {
      "cell_type": "code",
      "source": [
        "# Use pandas to import tweets\n",
        "tweets_path = '/content/airline_tweets.csv'\n",
        "tweets = pd.read_csv(tweets_path, sep=',')"
      ],
      "metadata": {
        "id": "AYcjF8jYeUeY"
      },
      "execution_count": 15,
      "outputs": []
    },
    {
      "cell_type": "markdown",
      "source": [
        "Importamos el data_set, ésto representa nuestro alamcén de datos sobre los cuales vamos a trabajar y realizar el tratamiento."
      ],
      "metadata": {
        "id": "9mo0pDL9p4wm"
      }
    },
    {
      "cell_type": "markdown",
      "source": [
        "# Nueva sección"
      ],
      "metadata": {
        "id": "TJYSQNs-fkxO"
      }
    },
    {
      "cell_type": "code",
      "source": [
        "pip install utils"
      ],
      "metadata": {
        "colab": {
          "base_uri": "https://localhost:8080/"
        },
        "collapsed": true,
        "id": "qkdCVAkNlzxp",
        "outputId": "35a73a74-c3f8-4878-8620-588e14aeeef3"
      },
      "execution_count": 17,
      "outputs": [
        {
          "output_type": "stream",
          "name": "stdout",
          "text": [
            "Collecting utils\n",
            "  Downloading utils-1.0.2.tar.gz (13 kB)\n",
            "  Preparing metadata (setup.py) ... \u001b[?25l\u001b[?25hdone\n",
            "Building wheels for collected packages: utils\n",
            "  Building wheel for utils (setup.py) ... \u001b[?25l\u001b[?25hdone\n",
            "  Created wheel for utils: filename=utils-1.0.2-py2.py3-none-any.whl size=13906 sha256=18fcc70fb0b13eb2736b471b62022bf4f8a0ff3bffa55a2cc1b5316c4017894b\n",
            "  Stored in directory: /root/.cache/pip/wheels/15/0c/b3/674aea8c5d91c642c817d4d630bd58faa316724b136844094d\n",
            "Successfully built utils\n",
            "Installing collected packages: utils\n",
            "Successfully installed utils-1.0.2\n"
          ]
        }
      ]
    },
    {
      "cell_type": "markdown",
      "source": [
        "Esta seccion se añadio para poder solventar el error de importacion de la libreria utils, esta parte es nueva y no forma parte del codigo."
      ],
      "metadata": {
        "id": "N1SZ5QboqD-t"
      }
    },
    {
      "cell_type": "code",
      "source": [
        "from utils import placeholder"
      ],
      "metadata": {
        "colab": {
          "base_uri": "https://localhost:8080/",
          "height": 322
        },
        "id": "hMW43t91eZG_",
        "outputId": "fdea0996-ca84-4455-da27-db04d3f87617"
      },
      "execution_count": 24,
      "outputs": [
        {
          "output_type": "error",
          "ename": "ImportError",
          "evalue": "cannot import name 'placeholder' from 'utils' (/usr/local/lib/python3.11/dist-packages/utils/__init__.py)",
          "traceback": [
            "\u001b[0;31m---------------------------------------------------------------------------\u001b[0m",
            "\u001b[0;31mImportError\u001b[0m                               Traceback (most recent call last)",
            "\u001b[0;32m/tmp/ipython-input-24-1477738346.py\u001b[0m in \u001b[0;36m<cell line: 0>\u001b[0;34m()\u001b[0m\n\u001b[0;32m----> 1\u001b[0;31m \u001b[0;32mfrom\u001b[0m \u001b[0mutils\u001b[0m \u001b[0;32mimport\u001b[0m \u001b[0mplaceholder\u001b[0m\u001b[0;34m\u001b[0m\u001b[0;34m\u001b[0m\u001b[0m\n\u001b[0m",
            "\u001b[0;31mImportError\u001b[0m: cannot import name 'placeholder' from 'utils' (/usr/local/lib/python3.11/dist-packages/utils/__init__.py)",
            "",
            "\u001b[0;31m---------------------------------------------------------------------------\u001b[0;32m\nNOTE: If your import is failing due to a missing package, you can\nmanually install dependencies using either !pip or !apt.\n\nTo view examples of installing some common dependencies, click the\n\"Open Examples\" button below.\n\u001b[0;31m---------------------------------------------------------------------------\u001b[0m\n"
          ],
          "errorDetails": {
            "actions": [
              {
                "action": "open_url",
                "actionText": "Open Examples",
                "url": "/notebooks/snippets/importing_libraries.ipynb"
              }
            ]
          }
        }
      ]
    },
    {
      "cell_type": "markdown",
      "source": [
        "Aqui dio error porque no permitio incluir la libreria instalada, era necesario para poder continuar yaa que el metodo placeholder hace uso de la libreria utils"
      ],
      "metadata": {
        "id": "k-nkG5WWqWCY"
      }
    },
    {
      "cell_type": "code",
      "source": [
        "blankspace_pattern = r'\\s+'\n",
        "blankspace_repl = ' '\n",
        "\n",
        "def preprocess(text):\n",
        "    '''Create a preprocess pipeline that cleans the tweet data.'''\n",
        "\n",
        "    # Step 1: Lowercase\n",
        "    text = text.lower()\n",
        "\n",
        "    # Step 2: Replace patterns with placeholders\n",
        "    text = placeholder(text)\n",
        "\n",
        "    # Step 3: Remove extra whitespace characters\n",
        "    text = re.sub(blankspace_pattern, blankspace_repl, text)\n",
        "    text = text.strip()\n",
        "\n",
        "    return text"
      ],
      "metadata": {
        "id": "jgwfr0VHebao"
      },
      "execution_count": 19,
      "outputs": []
    },
    {
      "cell_type": "markdown",
      "source": [
        "Aqui estamos creando una función llamada preproccess, que haga los siguientes pasos al introduccir un nuevo texto                                          Paso 1: Convierte el texto en minúsculas.\n",
        "Paso 2: Reemplaza los siguientes patrones con marcadores de posición:\n",
        "URL → URL\n",
        "Dígitos → DÍGITO\n",
        "Hashtags → HASHTAG\n",
        "Identificadores de tweets → USUARIO\n",
        "Paso 3: Elimina los espacios en blanco adicionales.\n",
        " A continuación nos dan unas sugerencias para poder guiarnos en el reto y poder aprovechar cada paso:\n",
        " Como manejo de caracteres, li mpieza de datos y nos provee una función para poder usarla y manejarka en todo el notebook"
      ],
      "metadata": {
        "id": "ixbAgSMkr9Bu"
      }
    },
    {
      "cell_type": "code",
      "source": [
        "example_tweet = 'lol @justinbeiber and @BillGates are like soo 2000 #yesterday #amiright saw it on https://twitter.com #yolo'"
      ],
      "metadata": {
        "id": "NzMK1L92egpz"
      },
      "execution_count": 20,
      "outputs": []
    },
    {
      "cell_type": "markdown",
      "source": [
        "Este es una data de ejemplo de un tweet que fuéposteado"
      ],
      "metadata": {
        "id": "x24L8hWlwJTU"
      }
    },
    {
      "cell_type": "code",
      "source": [
        "# Apply the function to the example tweet\n",
        "print(example_tweet)\n",
        "print(f\"{'='*50}\")\n",
        "print(preprocess(example_tweet))"
      ],
      "metadata": {
        "colab": {
          "base_uri": "https://localhost:8080/"
        },
        "id": "FRZbsZ4jei6I",
        "outputId": "72ac985c-a439-4edd-eec9-dfb0c9fc885a"
      },
      "execution_count": 25,
      "outputs": [
        {
          "output_type": "stream",
          "name": "stdout",
          "text": [
            "lol @justinbeiber and @BillGates are like soo 2000 #yesterday #amiright saw it on https://twitter.com #yolo\n",
            "==================================================\n",
            "lol @justinbeiber and @billgates are like soo 2000 #yesterday #amiright saw it on https://twitter.com #yolo\n"
          ]
        }
      ]
    },
    {
      "cell_type": "code",
      "source": [
        "# Apply the function to the text column and assign the preprocessed tweets to a new column\n",
        "tweets['text_processed'] = tweets['text'].apply(lambda x: preprocess(x))\n",
        "tweets['text_processed'].head()"
      ],
      "metadata": {
        "colab": {
          "base_uri": "https://localhost:8080/",
          "height": 241
        },
        "id": "IQx6UUj8elZA",
        "outputId": "e432feff-5827-4ea1-9016-7c8f91fdd861"
      },
      "execution_count": 26,
      "outputs": [
        {
          "output_type": "execute_result",
          "data": {
            "text/plain": [
              "0                  @virginamerica what @dhepburn said.\n",
              "1    @virginamerica plus you've added commercials t...\n",
              "2    @virginamerica i didn't today... must mean i n...\n",
              "3    @virginamerica it's really aggressive to blast...\n",
              "4    @virginamerica and it's a really big bad thing...\n",
              "Name: text_processed, dtype: object"
            ],
            "text/html": [
              "<div>\n",
              "<style scoped>\n",
              "    .dataframe tbody tr th:only-of-type {\n",
              "        vertical-align: middle;\n",
              "    }\n",
              "\n",
              "    .dataframe tbody tr th {\n",
              "        vertical-align: top;\n",
              "    }\n",
              "\n",
              "    .dataframe thead th {\n",
              "        text-align: right;\n",
              "    }\n",
              "</style>\n",
              "<table border=\"1\" class=\"dataframe\">\n",
              "  <thead>\n",
              "    <tr style=\"text-align: right;\">\n",
              "      <th></th>\n",
              "      <th>text_processed</th>\n",
              "    </tr>\n",
              "  </thead>\n",
              "  <tbody>\n",
              "    <tr>\n",
              "      <th>0</th>\n",
              "      <td>@virginamerica what @dhepburn said.</td>\n",
              "    </tr>\n",
              "    <tr>\n",
              "      <th>1</th>\n",
              "      <td>@virginamerica plus you've added commercials t...</td>\n",
              "    </tr>\n",
              "    <tr>\n",
              "      <th>2</th>\n",
              "      <td>@virginamerica i didn't today... must mean i n...</td>\n",
              "    </tr>\n",
              "    <tr>\n",
              "      <th>3</th>\n",
              "      <td>@virginamerica it's really aggressive to blast...</td>\n",
              "    </tr>\n",
              "    <tr>\n",
              "      <th>4</th>\n",
              "      <td>@virginamerica and it's a really big bad thing...</td>\n",
              "    </tr>\n",
              "  </tbody>\n",
              "</table>\n",
              "</div><br><label><b>dtype:</b> object</label>"
            ]
          },
          "metadata": {},
          "execution_count": 26
        }
      ]
    },
    {
      "cell_type": "markdown",
      "source": [
        "Aqui se va a realizar el reto dos que consiste en lematizar el texto para hacerlo màs legiblew, esto nos ayuda a poder generar datos de entrenamiento más precisos y fiables.\n",
        "En el reto anterior se usó spaCY para lematizar el codigo, en la seccion anterior de lematizó el texto para poder obtener la forma base de la palabra, es decir la frase sin aplciar formato y estilos de presentación, obtenerla lo mas simple y base posible, ahora en esta seccion lo que se va a hcaer es aplicar la lematización para poder hacer el texto más legible y con el disminuir el numero de palbras usadas, esto puede ayudarnos a realizar de forma mas efectiva un modelo de clasificacion de sentimientos porque al usar menos palabras es más eficiente. Esto lo vamos a aplicar a todos los tweets que tenemos cargados anteriormente en nuestro dataset.\n",
        "Lo que vamos a hacer es mediante una lista iterar o recorrer sobre cada elemento y obtener de cada uno de ellos su token o identificador unico, algo como un ID propio"
      ],
      "metadata": {
        "id": "cFHkBE0WwsVB"
      }
    },
    {
      "cell_type": "code",
      "source": [
        "# Import spaCy\n",
        "import spacy\n",
        "nlp = spacy.load('en_core_web_sm')"
      ],
      "metadata": {
        "id": "1kZQHO4Oen5h"
      },
      "execution_count": 27,
      "outputs": []
    },
    {
      "cell_type": "code",
      "source": [
        "# Create a function to lemmatize text\n",
        "def lemmatize_text(text):\n",
        "    '''Lemmatize the text input with spaCy annotations.'''\n",
        "\n",
        "    # Step 1: Initialize an empty list to hold lemmas\n",
        "    lemma = []\n",
        "\n",
        "    # Step 2: Apply the nlp pipeline to input text\n",
        "    doc = nlp(text)\n",
        "\n",
        "    # Step 3: Iterate over tokens in the text to get the token lemma\n",
        "    for token in doc:\n",
        "        lemma.append(token.lemma_)\n",
        "\n",
        "    # Step 4: Join lemmas together into a single string\n",
        "    text_lemma = ' '.join(lemma)\n",
        "\n",
        "    return text_lemma"
      ],
      "metadata": {
        "id": "8tTZ5m2keqTE"
      },
      "execution_count": 28,
      "outputs": []
    },
    {
      "cell_type": "code",
      "source": [
        "# Apply the function to an example tweet\n",
        "print(tweets.iloc[101][\"text_processed\"])\n",
        "print(f\"{'='*50}\")\n",
        "print(lemmatize_text(tweets.iloc[101]['text_processed']))"
      ],
      "metadata": {
        "colab": {
          "base_uri": "https://localhost:8080/"
        },
        "id": "KoJIJPekesqw",
        "outputId": "6ce7ac3e-7e76-439c-e9c1-9150ae84d875"
      },
      "execution_count": 29,
      "outputs": [
        {
          "output_type": "stream",
          "name": "stdout",
          "text": [
            "@virginamerica why must a traveler miss a flight to late flight check a bag? i missed my morning appointments and you lost my business. #sfo2lax\n",
            "==================================================\n",
            "@virginamerica why must a traveler miss a flight to late flight check a bag ? I miss my morning appointment and you lose my business . # sfo2lax\n"
          ]
        }
      ]
    },
    {
      "cell_type": "code",
      "source": [
        "# This may take a while!\n",
        "tweets['text_lemmatized'] = tweets['text_processed'].apply(lambda x: lemmatize_text(x))"
      ],
      "metadata": {
        "id": "dYFyrSINeu6i"
      },
      "execution_count": 30,
      "outputs": []
    },
    {
      "cell_type": "code",
      "source": [
        "# Print the preprocessed tweet\n",
        "print(tweets['text_processed'].iloc[101])\n",
        "print(f\"{'='*50}\")\n",
        "# Print the lemmatized tweet\n",
        "print(tweets['text_lemmatized'].iloc[101])"
      ],
      "metadata": {
        "colab": {
          "base_uri": "https://localhost:8080/"
        },
        "id": "RdTrJj4fexJV",
        "outputId": "a3c88769-cd3b-4a25-b5bb-3416b9511670"
      },
      "execution_count": 31,
      "outputs": [
        {
          "output_type": "stream",
          "name": "stdout",
          "text": [
            "@virginamerica why must a traveler miss a flight to late flight check a bag? i missed my morning appointments and you lost my business. #sfo2lax\n",
            "==================================================\n",
            "@virginamerica why must a traveler miss a flight to late flight check a bag ? I miss my morning appointment and you lose my business . # sfo2lax\n"
          ]
        }
      ]
    },
    {
      "cell_type": "markdown",
      "source": [
        "Aquí inicamos la tercera secccion, que corresponde al tercer reto:\n",
        "\n",
        "Debemos obtener los valores tf-idf de cada termino del documento, es decir de nuestro dataset de tweets que lo cargamos anteriormente y si algunos de esos valores nos dicen algo referente a los sentimientos, osea, si hablan o se describe un sentimiento por ejemplo: ira, alegri,etc.\n",
        "También debemos hacernos la pregunta si alguna de esas palkabras o valores describen algo malo o bueno; que nos pueda ayudar a distinguir tweets positivos o negativos.\n",
        "Entonces, lo que vamos a hacer es mediante estos valores definir un clasificador o score de tf-idf.\n",
        "Ahora mediante un dataset vamos a crear un conjunto de indices que por cada tf-idf recueperado asigne un valor positivo o negativo, luego vamos a organizar cada uno de esos valores en un subconjunto, los mismos que los vamos a ordenar de forma ascendente y vamos a obtener los 10 primeros de cada subconjunto para poder construir nuestro grafico de clasificacion de sentimientos"
      ],
      "metadata": {
        "id": "m0NRMp5QzTSg"
      }
    },
    {
      "cell_type": "code",
      "source": [
        "# Create a tfidf vectorizer\n",
        "vectorizer = TfidfVectorizer(lowercase=True,\n",
        "                             stop_words='english',\n",
        "                             min_df=2,\n",
        "                             max_df=0.95,\n",
        "                             max_features=None)\n",
        "\n",
        "# Fit and transform\n",
        "tf_dtm = vectorizer.fit_transform(tweets['text_lemmatized'])\n",
        "\n",
        "# Create a tf-idf dataframe\n",
        "tfidf = pd.DataFrame(tf_dtm.todense(),\n",
        "                     columns=vectorizer.get_feature_names_out(),\n",
        "                     index=tweets.index)"
      ],
      "metadata": {
        "id": "SxQ-2rKcez96"
      },
      "execution_count": 32,
      "outputs": []
    },
    {
      "cell_type": "code",
      "source": [
        "# Complete the boolean masks\n",
        "positive_index = tweets[tweets['airline_sentiment'] == 'positive'].index\n",
        "negative_index = tweets[tweets['airline_sentiment'] == 'negative'].index"
      ],
      "metadata": {
        "id": "epA06k9Ye2WM"
      },
      "execution_count": 33,
      "outputs": []
    },
    {
      "cell_type": "code",
      "source": [
        "# Complete the following two lines\n",
        "pos = tfidf.loc[positive_index].mean().sort_values(ascending=False).head(10)\n",
        "neg = tfidf.loc[negative_index].mean().sort_values(ascending=False).head(10)"
      ],
      "metadata": {
        "id": "68zajV9He49Z"
      },
      "execution_count": 34,
      "outputs": []
    },
    {
      "cell_type": "code",
      "source": [
        "pos.plot(kind='barh',\n",
        "         xlim=(0, 0.18),\n",
        "         color='cornflowerblue',\n",
        "         title='Top 10 terms with the highest mean tf-idf values for positive tweets');"
      ],
      "metadata": {
        "colab": {
          "base_uri": "https://localhost:8080/",
          "height": 452
        },
        "id": "Bh_Ps19pe7sC",
        "outputId": "bb51de97-a2a7-417c-b5e5-ccdf8287e4ae"
      },
      "execution_count": 35,
      "outputs": [
        {
          "output_type": "display_data",
          "data": {
            "text/plain": [
              "<Figure size 640x480 with 1 Axes>"
            ],
            "image/png": "[encoded data removed]"
          },
          "metadata": {}
        }
      ]
    },
    {
      "cell_type": "code",
      "source": [
        "neg.plot(kind='barh',\n",
        "         xlim=(0, 0.18),\n",
        "         color='darksalmon',\n",
        "         title='Top 10 terms with the highest mean tf-idf values for negative tweets');"
      ],
      "metadata": {
        "colab": {
          "base_uri": "https://localhost:8080/",
          "height": 452
        },
        "id": "-8jlqcxFe-PR",
        "outputId": "8f081dc6-4dc2-4553-f8f7-63c0a76b1e6a"
      },
      "execution_count": 36,
      "outputs": [
        {
          "output_type": "display_data",
          "data": {
            "text/plain": [
              "<Figure size 640x480 with 1 Axes>"
            ],
            "image/png": "[encoded data removed]"
          },
          "metadata": {}
        }
      ]
    },
    {
      "cell_type": "code",
      "metadata": {
        "colab": {
          "base_uri": "https://localhost:8080/"
        },
        "id": "b8c1fe7c",
        "outputId": "efd8b578-1484-4d39-b077-f7ddb681aae0"
      },
      "source": [
        "# Use pandas to import tweets\n",
        "tweets_path = '/content/airline_tweets.csv'\n",
        "try:\n",
        "    tweets = pd.read_csv(tweets_path, sep=',')\n",
        "    print(\"File loaded successfully!\")\n",
        "except FileNotFoundError:\n",
        "    print(f\"Error: The file was not found at {tweets_path}. Please ensure the file exists in the specified location.\")\n",
        "except Exception as e:\n",
        "    print(f\"An unexpected error occurred: {e}\")"
      ],
      "execution_count": 39,
      "outputs": [
        {
          "output_type": "stream",
          "name": "stdout",
          "text": [
            "File loaded successfully!\n"
          ]
        }
      ]
    },
    {
      "cell_type": "code",
      "metadata": {
        "id": "5a73649a"
      },
      "source": [
        "def placeholder(text):\n",
        "    '''Placeholder function to be replaced with actual preprocessing steps later.'''\n",
        "    # This is a placeholder function.\n",
        "    # You would replace this with code to handle specific patterns,\n",
        "    # like replacing mentions, hashtags, URLs, etc.\n",
        "    # For now, it just returns the text as is.\n",
        "    return text"
      ],
      "execution_count": 23,
      "outputs": []
    }
  ]
}